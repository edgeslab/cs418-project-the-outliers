{
 "cells": [
  {
   "cell_type": "markdown",
   "metadata": {},
   "source": [
    "# Juptyer Notebook - The Outliers"
   ]
  },
  {
   "cell_type": "markdown",
   "metadata": {},
   "source": [
    "## Authors\n",
    "\n",
    "Siham Hussein: shusse6@uic.edu, seehamrun@\n",
    "\n",
    "Fatima Qarni: fqarni2@uic.edu, qarni@\n",
    "\n",
    "Zaynab Almoujahed: zalmou2@uic.edu, zalmoujahed@ \n",
    "\n",
    "Amit Panthi: apanth2@uic.edu, apanth2@\n",
    "\n",
    "David Qiao: dqiao4@uic.edu, chowsterr@\n"
   ]
  },
  {
   "cell_type": "markdown",
   "metadata": {},
   "source": [
    "## Project Overview\n",
    "\n",
    "The goal of the project is TESTING"
   ]
  },
  {
   "cell_type": "markdown",
   "metadata": {},
   "source": [
    "## Data Sources \n",
    "\n",
    "We used the spotify API to gather information about XXX playlists from XXX different eras. The data about each playlist can be found in the files XXXXXX"
   ]
  },
  {
   "cell_type": "markdown",
   "metadata": {},
   "source": [
    "## Data Overview \n",
    "\n",
    "TODO: Describe the datatype and the content in each of the data files"
   ]
  },
  {
   "cell_type": "code",
   "execution_count": null,
   "metadata": {},
   "outputs": [],
   "source": []
  }
 ],
 "metadata": {
  "kernelspec": {
   "display_name": "Python 3",
   "language": "python",
   "name": "python3"
  },
  "language_info": {
   "codemirror_mode": {
    "name": "ipython",
    "version": 3
   },
   "file_extension": ".py",
   "mimetype": "text/x-python",
   "name": "python",
   "nbconvert_exporter": "python",
   "pygments_lexer": "ipython3",
   "version": "3.7.1"
  }
 },
 "nbformat": 4,
 "nbformat_minor": 2
}
