{
 "cells": [
  {
   "cell_type": "markdown",
   "metadata": {},
   "source": [
    "# Juptyer Notebook - The Outliers\n",
    "\n",
    "## [View on Github](https://github.com/edgeslab/cs418-project-the-outliers/blob/master/spotify-analysis/SpotifyAnalysis.ipynb)\n",
    "\n",
    "## [Demo](https://spotify-outliers.appspot.com)"
   ]
  },
  {
   "cell_type": "markdown",
   "metadata": {},
   "source": [
    "## Authors\n",
    "\n",
    "Siham Hussein: shusse6@uic.edu, seehamrun@\n",
    "\n",
    "Fatima Qarni: fqarni2@uic.edu, qarni@\n",
    "\n",
    "Zaynab Almoujahed: zalmou2@uic.edu, zalmoujahed@ \n",
    "\n",
    "Amit Panthi: apanth2@uic.edu, apanth2@\n",
    "\n",
    "David Qiao: dqiao4@uic.edu, chowsterr@\n"
   ]
  },
  {
   "cell_type": "markdown",
   "metadata": {},
   "source": [
    "## Project Overview and Introduction\n",
    "\n",
    "Music is a very impactful media and can affect our daily lives. It invokes many different senses, emotions and is key to human growth. However, not every song is created equal, different situations call for different soundtracks. \n",
    "\n",
    "The goal of the project is to create an Spotify playlist analyzer. We  will analyze Spotify's top ranking playlists and see what musical qualities are most prevalent. It should be able both see the trends amongst different playlists over the years and across countries, and also be able to predict which year/country a user's playlist is closest to."
   ]
  },
  {
   "cell_type": "markdown",
   "metadata": {},
   "source": [
    "## Data Overview \n",
    "\n",
    "Spotify provides us with playlists that contain the top tracks of the year (auto or user generated) per time period/region. Along with this, Spotify also keeps a number of stats pertaining to each song (danceability, loudness, energy, etc). Concatenating these stats will be the basis of our study.\n",
    "\n",
    "### Data Sources \n",
    "\n",
    "We used the spotify API to gather information about the top 50 playlists from 60+ countries as well as gather playlists for the yearly top hits from various years (globally). \n",
    "\n",
    "## Data Cleaning\n",
    "\n",
    "We obtained the data via the Spotify Web API. This is based off OAuth2 to make validated requests and then we used several endpoints to get the information about the playlist tracks. All the code for retrieving this is in [spotify_api.py](spotify_api.py)\n",
    "\n",
    "Obtaining a playlist involved 3 steps: \n",
    "1. Obtaining a request token\n",
    "2. Finding the playlist ID of the playlists we were interested in via the spotify web application\n",
    "3. Use the spotify API to obtain the overall Playlist Object (`spotify_api.get_playlist()`)\n",
    "4. Parse the Playlist Object to get the tracks in the playlist out of it and potentially retrieve more tracks if the playlist is large (`spotify_api.get_playlist_tracks`)\n",
    "5. For each track from the above, call the Spotify API to obtain the \"track features\" (`spotify_api.get_audio_features`)\n",
    "6. While getting the track features, call the Spotify API again to retrieve the song's artist, then another, to retrieve that artist's genre. This was the only way to get a song's genre since it is not available otherwise\n",
    "\n",
    "These steps are wrapped into one function `spotify_api.get_playlist_audio_features()` which takes the playlist ID and an access token (populated from `spotify_api.get_access_token()`) and returns a list of those features which are then written to a CSV file using `spotify_api.export_to_csv`\n"
   ]
  },
  {
   "cell_type": "markdown",
   "metadata": {},
   "source": [
    "## Exploratory Data Analysis\n",
    "\n",
    "<u> __Structure__ </u>: The data we have is structured around the audio features of each track. For each track we can obtain the following object:\n",
    "\n",
    "```\n",
    "{\n",
    "  \"duration_ms\" : 255349,\n",
    "  \"key\" : 5,\n",
    "  \"mode\" : 0,\n",
    "  \"time_signature\" : 4,\n",
    "  \"acousticness\" : 0.514,\n",
    "  \"danceability\" : 0.735,\n",
    "  \"energy\" : 0.578,\n",
    "  \"instrumentalness\" : 0.0902,\n",
    "  \"liveness\" : 0.159,\n",
    "  \"loudness\" : -11.840,\n",
    "  \"speechiness\" : 0.0461,\n",
    "  \"valence\" : 0.624,\n",
    "  \"tempo\" : 98.002,\n",
    "  \"id\" : \"06AKEBrKUckW0KREUWRnvT\",\n",
    "  \"uri\" : \"spotify:track:06AKEBrKUckW0KREUWRnvT\",\n",
    "  \"track_href\" : \"https://api.spotify.com/v1/tracks/06AKEBrKUckW0KREUWRnvT\",\n",
    "  \"analysis_url\" : \"https://api.spotify.com/v1/audio-analysis/06AKEBrKUckW0KREUWRnvT\",\n",
    "  \"type\" : \"audio_features\"\n",
    "}\n",
    "```\n",
    "\n",
    "This data tells us the different features of a track that we can use to perform categorization later on. Given a playlist, we have written several API Access functions that will retrieve these audio features for all of the tracks on the playlist.\n",
    "\n",
    "<u> __Scope__ </u>: Spotify has several thousands of playlists that are automatically generated and even more user created ones. We are limiting the scope of this project to just obtaining tracks for \"Top Hits\" for different countries and tracks for Spotify's \"Yearly Hits\" playlists. The yearly hits are global hits for each different year that we have data for.\n",
    "\n",
    "<u> __Granularity__ </u>: The data we have available is on a per-track granularity. While we do have the data grouped by countries and years, the underlying csvs all contain the same information per track. We can obtain more data about the individual song such as it's [audio analysis](https://developer.spotify.com/documentation/web-api/reference/tracks/get-audio-analysis/) but that is out of scope for now.\n",
    "\n",
    "<u> __Temporality__</u>: The data is about each individual track, as the underlying spotify api learns, some of these values may change, but that is really only for newer songs. Older song features are not expected to change much. The only sense of \"time\" that we have is when a track was first introduced. There are no specific \"timestamps\" in the data\n",
    "\n",
    "<u> __Faithfulness__</u>: According to PTDS, We describe a dataset as \"faithful\" if we believe it accurately captures reality. The data that we are looking at consists of a score from 0-1 of various musical features. None of these values are entered manually or have other dependencies, rather these are provided by Spotify from their internal heuristics and analysis tools, so we believe this data is as faithful as we can get.\n",
    "\n",
    "<u> __Hypothesis__</u>: We started off comparing general trends of features across countries, but that proved very boring since we we were focusing on just two specific terms and it wasn't providing any meaningful insights, however when you look at how features correlate with each other, there were some obvious trends country-wide. More explanations are below each plot."
   ]
  },
  {
   "cell_type": "code",
   "execution_count": 9,
   "metadata": {},
   "outputs": [
    {
     "data": {
      "text/html": [
       "<div>\n",
       "<style scoped>\n",
       "    .dataframe tbody tr th:only-of-type {\n",
       "        vertical-align: middle;\n",
       "    }\n",
       "\n",
       "    .dataframe tbody tr th {\n",
       "        vertical-align: top;\n",
       "    }\n",
       "\n",
       "    .dataframe thead th {\n",
       "        text-align: right;\n",
       "    }\n",
       "</style>\n",
       "<table border=\"1\" class=\"dataframe\">\n",
       "  <thead>\n",
       "    <tr style=\"text-align: right;\">\n",
       "      <th></th>\n",
       "      <th>Unnamed: 0</th>\n",
       "      <th>acousticness</th>\n",
       "      <th>analysis_url</th>\n",
       "      <th>danceability</th>\n",
       "      <th>duration_ms</th>\n",
       "      <th>energy</th>\n",
       "      <th>genre</th>\n",
       "      <th>id</th>\n",
       "      <th>instrumentalness</th>\n",
       "      <th>key</th>\n",
       "      <th>...</th>\n",
       "      <th>loudness</th>\n",
       "      <th>mode</th>\n",
       "      <th>speechiness</th>\n",
       "      <th>tempo</th>\n",
       "      <th>time_signature</th>\n",
       "      <th>track_href</th>\n",
       "      <th>type</th>\n",
       "      <th>uri</th>\n",
       "      <th>valence</th>\n",
       "      <th>year</th>\n",
       "    </tr>\n",
       "  </thead>\n",
       "  <tbody>\n",
       "    <tr>\n",
       "      <th>0</th>\n",
       "      <td>0</td>\n",
       "      <td>0.19100</td>\n",
       "      <td>https://api.spotify.com/v1/audio-analysis/2dpa...</td>\n",
       "      <td>0.687</td>\n",
       "      <td>214290</td>\n",
       "      <td>0.792</td>\n",
       "      <td>brostep</td>\n",
       "      <td>2dpaYNEQHiRxtZbfNsse99</td>\n",
       "      <td>0.000000</td>\n",
       "      <td>5</td>\n",
       "      <td>...</td>\n",
       "      <td>-2.749</td>\n",
       "      <td>1</td>\n",
       "      <td>0.0452</td>\n",
       "      <td>100.015</td>\n",
       "      <td>4</td>\n",
       "      <td>https://api.spotify.com/v1/tracks/2dpaYNEQHiRx...</td>\n",
       "      <td>audio_features</td>\n",
       "      <td>spotify:track:2dpaYNEQHiRxtZbfNsse99</td>\n",
       "      <td>0.671</td>\n",
       "      <td>2018</td>\n",
       "    </tr>\n",
       "    <tr>\n",
       "      <th>1</th>\n",
       "      <td>1</td>\n",
       "      <td>0.15300</td>\n",
       "      <td>https://api.spotify.com/v1/audio-analysis/4w8n...</td>\n",
       "      <td>0.841</td>\n",
       "      <td>212500</td>\n",
       "      <td>0.798</td>\n",
       "      <td>dance pop</td>\n",
       "      <td>4w8niZpiMy6qz1mntFA5uM</td>\n",
       "      <td>0.000003</td>\n",
       "      <td>1</td>\n",
       "      <td>...</td>\n",
       "      <td>-4.206</td>\n",
       "      <td>0</td>\n",
       "      <td>0.2290</td>\n",
       "      <td>95.948</td>\n",
       "      <td>4</td>\n",
       "      <td>https://api.spotify.com/v1/tracks/4w8niZpiMy6q...</td>\n",
       "      <td>audio_features</td>\n",
       "      <td>spotify:track:4w8niZpiMy6qz1mntFA5uM</td>\n",
       "      <td>0.591</td>\n",
       "      <td>2018</td>\n",
       "    </tr>\n",
       "    <tr>\n",
       "      <th>2</th>\n",
       "      <td>2</td>\n",
       "      <td>0.35400</td>\n",
       "      <td>https://api.spotify.com/v1/audio-analysis/7dt6...</td>\n",
       "      <td>0.680</td>\n",
       "      <td>231267</td>\n",
       "      <td>0.563</td>\n",
       "      <td>pop</td>\n",
       "      <td>7dt6x5M1jzdTEt8oCbisTK</td>\n",
       "      <td>0.000000</td>\n",
       "      <td>10</td>\n",
       "      <td>...</td>\n",
       "      <td>-5.843</td>\n",
       "      <td>1</td>\n",
       "      <td>0.0454</td>\n",
       "      <td>145.028</td>\n",
       "      <td>4</td>\n",
       "      <td>https://api.spotify.com/v1/tracks/7dt6x5M1jzdT...</td>\n",
       "      <td>audio_features</td>\n",
       "      <td>spotify:track:7dt6x5M1jzdTEt8oCbisTK</td>\n",
       "      <td>0.374</td>\n",
       "      <td>2018</td>\n",
       "    </tr>\n",
       "    <tr>\n",
       "      <th>3</th>\n",
       "      <td>3</td>\n",
       "      <td>0.00513</td>\n",
       "      <td>https://api.spotify.com/v1/audio-analysis/2xLM...</td>\n",
       "      <td>0.834</td>\n",
       "      <td>312820</td>\n",
       "      <td>0.730</td>\n",
       "      <td>pop</td>\n",
       "      <td>2xLMifQCjDGFmkHkpNLD9h</td>\n",
       "      <td>0.000000</td>\n",
       "      <td>8</td>\n",
       "      <td>...</td>\n",
       "      <td>-3.714</td>\n",
       "      <td>1</td>\n",
       "      <td>0.2220</td>\n",
       "      <td>155.008</td>\n",
       "      <td>4</td>\n",
       "      <td>https://api.spotify.com/v1/tracks/2xLMifQCjDGF...</td>\n",
       "      <td>audio_features</td>\n",
       "      <td>spotify:track:2xLMifQCjDGFmkHkpNLD9h</td>\n",
       "      <td>0.446</td>\n",
       "      <td>2018</td>\n",
       "    </tr>\n",
       "    <tr>\n",
       "      <th>4</th>\n",
       "      <td>4</td>\n",
       "      <td>0.93400</td>\n",
       "      <td>https://api.spotify.com/v1/audio-analysis/0u2P...</td>\n",
       "      <td>0.351</td>\n",
       "      <td>200186</td>\n",
       "      <td>0.296</td>\n",
       "      <td>electropop</td>\n",
       "      <td>0u2P5u6lvoDfwTYjAADbn4</td>\n",
       "      <td>0.000000</td>\n",
       "      <td>4</td>\n",
       "      <td>...</td>\n",
       "      <td>-10.109</td>\n",
       "      <td>0</td>\n",
       "      <td>0.0333</td>\n",
       "      <td>115.284</td>\n",
       "      <td>4</td>\n",
       "      <td>https://api.spotify.com/v1/tracks/0u2P5u6lvoDf...</td>\n",
       "      <td>audio_features</td>\n",
       "      <td>spotify:track:0u2P5u6lvoDfwTYjAADbn4</td>\n",
       "      <td>0.120</td>\n",
       "      <td>2018</td>\n",
       "    </tr>\n",
       "  </tbody>\n",
       "</table>\n",
       "<p>5 rows × 21 columns</p>\n",
       "</div>"
      ],
      "text/plain": [
       "   Unnamed: 0  acousticness  \\\n",
       "0           0       0.19100   \n",
       "1           1       0.15300   \n",
       "2           2       0.35400   \n",
       "3           3       0.00513   \n",
       "4           4       0.93400   \n",
       "\n",
       "                                        analysis_url  danceability  \\\n",
       "0  https://api.spotify.com/v1/audio-analysis/2dpa...         0.687   \n",
       "1  https://api.spotify.com/v1/audio-analysis/4w8n...         0.841   \n",
       "2  https://api.spotify.com/v1/audio-analysis/7dt6...         0.680   \n",
       "3  https://api.spotify.com/v1/audio-analysis/2xLM...         0.834   \n",
       "4  https://api.spotify.com/v1/audio-analysis/0u2P...         0.351   \n",
       "\n",
       "   duration_ms  energy       genre                      id  instrumentalness  \\\n",
       "0       214290   0.792     brostep  2dpaYNEQHiRxtZbfNsse99          0.000000   \n",
       "1       212500   0.798   dance pop  4w8niZpiMy6qz1mntFA5uM          0.000003   \n",
       "2       231267   0.563         pop  7dt6x5M1jzdTEt8oCbisTK          0.000000   \n",
       "3       312820   0.730         pop  2xLMifQCjDGFmkHkpNLD9h          0.000000   \n",
       "4       200186   0.296  electropop  0u2P5u6lvoDfwTYjAADbn4          0.000000   \n",
       "\n",
       "   key  ...   loudness  mode  speechiness    tempo  time_signature  \\\n",
       "0    5  ...     -2.749     1       0.0452  100.015               4   \n",
       "1    1  ...     -4.206     0       0.2290   95.948               4   \n",
       "2   10  ...     -5.843     1       0.0454  145.028               4   \n",
       "3    8  ...     -3.714     1       0.2220  155.008               4   \n",
       "4    4  ...    -10.109     0       0.0333  115.284               4   \n",
       "\n",
       "                                          track_href            type  \\\n",
       "0  https://api.spotify.com/v1/tracks/2dpaYNEQHiRx...  audio_features   \n",
       "1  https://api.spotify.com/v1/tracks/4w8niZpiMy6q...  audio_features   \n",
       "2  https://api.spotify.com/v1/tracks/7dt6x5M1jzdT...  audio_features   \n",
       "3  https://api.spotify.com/v1/tracks/2xLMifQCjDGF...  audio_features   \n",
       "4  https://api.spotify.com/v1/tracks/0u2P5u6lvoDf...  audio_features   \n",
       "\n",
       "                                    uri valence  year  \n",
       "0  spotify:track:2dpaYNEQHiRxtZbfNsse99   0.671  2018  \n",
       "1  spotify:track:4w8niZpiMy6qz1mntFA5uM   0.591  2018  \n",
       "2  spotify:track:7dt6x5M1jzdTEt8oCbisTK   0.374  2018  \n",
       "3  spotify:track:2xLMifQCjDGFmkHkpNLD9h   0.446  2018  \n",
       "4  spotify:track:0u2P5u6lvoDfwTYjAADbn4   0.120  2018  \n",
       "\n",
       "[5 rows x 21 columns]"
      ]
     },
     "execution_count": 9,
     "metadata": {},
     "output_type": "execute_result"
    }
   ],
   "source": [
    "import visualization\n",
    "import pandas as pd \n",
    "\n",
    "all_data = visualization.get_csv('topTracksYearsCSV/AllYearsTopTracks.csv')\n",
    "df = pd.DataFrame(all_data)\n",
    "df.head()"
   ]
  },
  {
   "cell_type": "markdown",
   "metadata": {},
   "source": [
    "## Visualizations\n",
    "_Note: all our visualization code is under the visualization.py file, but all of the below are linked to the corresponding pages in our Data Studio Project. This allows us more flexability in the type of plots we show and interactability. The project is located at:_ [Spotify Outliers Visualizations Datastudio](https://datastudio.google.com/u/0/reporting/1gd-SVGexyjQwbE6JHMxl_oK0pAM07sBZ/page/ZNEo). _There are 4 pages (navigation bar is under the title)._\n",
    "\n",
    "## Energy and Danceability \n",
    "\n",
    "![energy_danceability_year_datastudio](images/energy_danceability_year_datastudio.png)\n",
    "\n",
    "Our inital idea was that energy and danceability are linked and as songs are more danceable, they correspond to having a higher energy, this turned out to be mostly true however, it seemed that the average for one was always slightly lower than the average for the other. What was interesting was that between the 1920s and 2000s, energy was increasing as danceability decreased. More interesting was how distinct the music from the roaring 20's was in terms of these features than the others, this is better seen in our dot plot. \n",
    "\n",
    "For higher resolution and interactability, see this chart on [Google Data Studio](https://datastudio.google.com/u/0/reporting/1gd-SVGexyjQwbE6JHMxl_oK0pAM07sBZ/page/ZNEo). _NOTE: We used datastudio for easier visualizations, however the code to do this in pandas  by calling this function:_"
   ]
  },
  {
   "cell_type": "code",
   "execution_count": null,
   "metadata": {},
   "outputs": [],
   "source": [
    "import visualization\n",
    "visualization.create_yearly_pointplot('danceability', 'energy')"
   ]
  },
  {
   "cell_type": "markdown",
   "metadata": {},
   "source": [
    "## Acousticness VS Energy\n",
    "\n",
    "![acousticness_energy_year_datastudio](images/acousticness_energy_year_datastudio.png)\n",
    "\n",
    "When we plotted acousticness, right away we could see an interesting drop from the 1920s to the 1950s and more. This got us thinking about what happened during that time. In the early 1960's Rock and Roll was starting to take over popularity than the 1920's jazz and blues scene, and along with that came the rap era as well. When we plotted Energy on the same graph as well, the trend was even more clear. Acousticness isn't considered high energy, but in addition to that, the populations interests was shifting to those tracks that are more danceable and have a higher energy, which is seen as the acousticness of the years went down.\n",
    "\n",
    "For higher resolution and interactability, see this chart on [Google Data Studio](https://datastudio.google.com/u/0/reporting/1gd-SVGexyjQwbE6JHMxl_oK0pAM07sBZ/page/A5xo). _NOTE: We used datastudio for easier visualizations, however the code to do this in pandas  by calling this function:_"
   ]
  },
  {
   "cell_type": "code",
   "execution_count": null,
   "metadata": {},
   "outputs": [],
   "source": [
    "import visualization\n",
    "visualization.create_yearly_pointplot('acousticness', 'energy')"
   ]
  },
  {
   "cell_type": "markdown",
   "metadata": {},
   "source": [
    "## Distinct Genres Per Year\n",
    "\n",
    "![distinct_genres_year_datastudio](images/distinct_genres_year_datastudio.png)\n",
    "_For interaction, view on_ [Google Data Studio](https://datastudio.google.com/u/0/reporting/1gd-SVGexyjQwbE6JHMxl_oK0pAM07sBZ/page/7Cyo).\n",
    "\n",
    "We had originally thought we would see some sort of trends in the genres that were listend to over the years, however, we saw that the number of genres the population listened to was still quite large. In fact when we looked into this it came across that most of the genres were [Adult Standards](https://en.wikipedia.org/wiki/Adult_standards), which looks to be a generic genre that encompasses popular music aimed at the older audience. However, drilling down in the top genres per year, we see that Adult Standards is popular only in 1920-1960s. Rock starts climbing up in the 1960s and becomes the top genre up till the year 2000, when pop starts climbing up, various forms of pop music sprout up in the list of top. \n",
    "\n",
    "Also if you drill down on the actual distribution of the genres per year, you can see that some like 'contemporary country' have lots of shifting popularity. Country music only came on the data for 2000+ and has since had it's ups and downs. In addition we can see that the adult's standads genre has become less and less popular over the span of the years and dissapears from the list in 2010. For more interesting things visit our [Songs Per Genre interactive visualization on Google Data Studio](https://datastudio.google.com/u/0/reporting/1gd-SVGexyjQwbE6JHMxl_oK0pAM07sBZ/page/Mjyo)"
   ]
  },
  {
   "cell_type": "markdown",
   "metadata": {},
   "source": [
    "## Machine Learning Analysis"
   ]
  },
  {
   "cell_type": "markdown",
   "metadata": {},
   "source": [
    "For this portion of the project, we created two different classifers. One was for a year prediction and one was for a genre prediction.\n",
    "\n",
    "In order to do the classification, we took the AllYearsTopTracks csv file, which contains the top tracks for the years that we analyzed, along with a column which contains the year the song was from. 80% of this data was randomly selected to be used as training data and the remaining 20% was used as original testing data. We then ran each of the different types of classifiers and compared to see which had the greatest accuracy, and selected that classifier for the \n",
    "\n",
    "The features that we used in analysis were: acousticness, danceability, energy, genre, instrumentalness, key, liveness, loudness, mode, speechiness, tempo, valence, and year."
   ]
  },
  {
   "cell_type": "markdown",
   "metadata": {},
   "source": [
    "### Year Prediction"
   ]
  },
  {
   "cell_type": "markdown",
   "metadata": {},
   "source": [
    "![year_accuracy](images/year_accuracy.png)"
   ]
  },
  {
   "cell_type": "markdown",
   "metadata": {},
   "source": [
    "From this analysis, we found that SVC was the best classifer for the problem. However, the accuracy is still only at about 43%, which was reflected in the results."
   ]
  },
  {
   "cell_type": "code",
   "execution_count": 3,
   "metadata": {},
   "outputs": [
    {
     "name": "stdout",
     "output_type": "stream",
     "text": [
      "The predicted year for the Siham's Discover Playlist was: 2000\n"
     ]
    }
   ],
   "source": [
    "import classification\n",
    "import GetTopYearly\n",
    "\n",
    "year = classification.predict_playlist_year(\"37i9dQZEVXcIEsENDsr0sr\")\n",
    "print(\"The predicted year for the Siham's Discover Playlist was: \" + str(year))"
   ]
  },
  {
   "cell_type": "markdown",
   "metadata": {},
   "source": [
    "We created a classfier to predict the year most of the songs in a playlist were popular in.\n",
    "We chose a playlist of 2018 top tracks, and the predicted year was 2010. "
   ]
  },
  {
   "cell_type": "markdown",
   "metadata": {},
   "source": [
    "### Genre Prediction"
   ]
  },
  {
   "cell_type": "markdown",
   "metadata": {},
   "source": [
    "![genre_accuracy](images/genre_accuracy.jpg)"
   ]
  },
  {
   "cell_type": "markdown",
   "metadata": {},
   "source": [
    "We found that Random Forest was the best classifier for genres, with a low accuracy of 35%, but as seen below, it ended up being more accurate than we assumed it would be.\n",
    "\n",
    "We ran the classifer on some songs to see what the prediction would be:"
   ]
  },
  {
   "cell_type": "code",
   "execution_count": 5,
   "metadata": {},
   "outputs": [
    {
     "name": "stdout",
     "output_type": "stream",
     "text": [
      "The predicted genre for Halsey's Eastside (which is a pop song) was: dance pop\n"
     ]
    },
    {
     "name": "stderr",
     "output_type": "stream",
     "text": [
      "/anaconda3/lib/python3.7/site-packages/sklearn/ensemble/forest.py:246: FutureWarning: The default value of n_estimators will change from 10 in version 0.20 to 100 in 0.22.\n",
      "  \"10 in version 0.20 to 100 in 0.22.\", FutureWarning)\n"
     ]
    }
   ],
   "source": [
    "genre = classification.predict_user_song_genre(\"7FGq80cy8juXBCD2nrqdWU\")\n",
    "\n",
    "print(\"The predicted genre for Halsey's Eastside (which is a pop song) was: \" + str(genre))"
   ]
  },
  {
   "cell_type": "markdown",
   "metadata": {},
   "source": [
    "We found that even though the accuracy scores for genres was lower, the genre predictions still fell in the same family of genre. With this, for example, the pop and dance pop are very similar."
   ]
  },
  {
   "cell_type": "markdown",
   "metadata": {},
   "source": [
    "## Results"
   ]
  },
  {
   "cell_type": "markdown",
   "metadata": {},
   "source": [
    "From these ML analyses, we learned how each genre of song has varying levels of each of the features we looked at which makes them significant. \n",
    "We also learned that the years classifier wasn't as accurate because the songs we had per year wasn't as significant as we thought it would be per year. There are a couple years that are very significant, but there isnt a huge amount of variability in the 2000's like we thought there would be. \n",
    "\n",
    "Our ML prediction tools allowed a user to see what their playlists/songs are like as compared to other songs, to predict the year/genre they are.\n",
    "\n",
    "We found serveral trends over the course of the project that were interesting as well, about the correlations of the different features that we looked at over the course of the project."
   ]
  },
  {
   "cell_type": "code",
   "execution_count": null,
   "metadata": {},
   "outputs": [],
   "source": []
  }
 ],
 "metadata": {
  "kernelspec": {
   "display_name": "Python 3",
   "language": "python",
   "name": "python3"
  },
  "language_info": {
   "codemirror_mode": {
    "name": "ipython",
    "version": 3
   },
   "file_extension": ".py",
   "mimetype": "text/x-python",
   "name": "python",
   "nbconvert_exporter": "python",
   "pygments_lexer": "ipython3",
   "version": "3.7.1"
  }
 },
 "nbformat": 4,
 "nbformat_minor": 2
}
