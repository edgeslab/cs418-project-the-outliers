{
 "cells": [
  {
   "cell_type": "markdown",
   "metadata": {},
   "source": [
    "# Juptyer Notebook - The Outliers"
   ]
  },
  {
   "cell_type": "markdown",
   "metadata": {},
   "source": [
    "## Authors\n",
    "\n",
    "Siham Hussein: shusse6@uic.edu, seehamrun@\n",
    "\n",
    "Fatima Qarni: fqarni2@uic.edu, qarni@\n",
    "\n",
    "Zaynab Almoujahed: zalmou2@uic.edu, zalmoujahed@ \n",
    "\n",
    "Amit Panthi: apanth2@uic.edu, apanth2@\n",
    "\n",
    "David Qiao: dqiao4@uic.edu, chowsterr@\n"
   ]
  },
  {
   "cell_type": "markdown",
   "metadata": {},
   "source": [
    "## Project Overview\n",
    "\n",
    "The goal of the project is to create an effective Spotify playlist generator. Music is a very impactful media and can affect our daily lives. It invokes many different senses, emotions and is key to human growth. However, not every song is created equal, different situations call for different soundtracks.\n We  will analyze Spotify's top ranking playlists and see what musical qualities are most prevalent. From here, we will create our own playlist generator, and challenge Spotify's."
   ]
  },
  {
   "cell_type": "markdown",
   "metadata": {},
   "source": [
    "## Data Sources \n",
    "\n",
    "We used the spotify API to gather information about the top 50 playlists from 60+ countries spanning the last couple decades." 
   ]
  },
  {
   "cell_type": "markdown",
   "metadata": {},
   "source": [
    "## Data Overview \n",
    "\n",
    "Spotify provides us with playlists that contain the top tracks of the year (auto or user generated) per time period/region. Along with this, Spotify also keeps a number of stats pertaining to each song (danceability, loudness, energy, etc). Concatenating these stats will be the basis of our study."
   ]
  },
  {
   "cell_type": "code",
   "execution_count": null,
   "metadata": {},
   "outputs": [],
   "source": []
  }
 ],
 "metadata": {
  "kernelspec": {
   "display_name": "Python 3",
   "language": "python",
   "name": "python3"
  },
  "language_info": {
   "codemirror_mode": {
    "name": "ipython",
    "version": 3
   },
   "file_extension": ".py",
   "mimetype": "text/x-python",
   "name": "python",
   "nbconvert_exporter": "python",
   "pygments_lexer": "ipython3",
   "version": "3.7.1"
  }
 },
 "nbformat": 4,
 "nbformat_minor": 2
}
